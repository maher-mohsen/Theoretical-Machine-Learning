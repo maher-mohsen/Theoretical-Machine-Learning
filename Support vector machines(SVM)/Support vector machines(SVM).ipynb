{
 "cells": [
  {
   "cell_type": "markdown",
   "id": "33a627be",
   "metadata": {},
   "source": [
    "# Support Vector Machines (SVM)"
   ]
  },
  {
   "cell_type": "markdown",
   "id": "07081630",
   "metadata": {},
   "source": [
    "## What is SVM :\n",
    "    “Support Vector Machine” (SVM) is a supervised machine learning algorithm that can be used for \n",
    "    both classification or regression challenges. However,  it is mostly used in classification problems.\n",
    "    In the SVM algorithm, we plot each data item as a point in n-dimensional space \n",
    "    (where n is a number of features you have) with the value of each \n",
    "    feature being the value of a particular coordinate. Then, we perform classification\n",
    "    by finding the hyper-plane that differentiates the two classes very well \n",
    "    Support Vectors are simply the coordinates of individual observation.\n",
    "    The SVM classifier is a frontier that best segregates the two classes (hyper-plane/ line).\n",
    "\n"
   ]
  },
  {
   "cell_type": "markdown",
   "id": "d2712d07",
   "metadata": {},
   "source": [
    "![Support-Vector-Machine](https://user-images.githubusercontent.com/73169639/206293656-6998e3fd-e406-459d-a823-435a816f54da.png)\n"
   ]
  },
  {
   "cell_type": "markdown",
   "id": "5db6988a",
   "metadata": {},
   "source": [
    "## Iters Formulas"
   ]
  },
  {
   "cell_type": "markdown",
   "id": "570ccdf3",
   "metadata": {},
   "source": [
    "# $$w = w + \\alpha * (2*\\lambda * w) _{y_{i}(wx_{i}+b)>=1}$$\n",
    "# $$w = w + \\alpha * (2*\\lambda * w- X_{i}.Y_{i}) _{y_{i}(wx_{i}+b)<1}$$\n",
    "# $$b = b +( \\alpha * y_i)  _{y_{i}(wx_{i}+b)<1}$$"
   ]
  },
  {
   "cell_type": "markdown",
   "id": "349146ed",
   "metadata": {},
   "source": [
    "## Used Libraries"
   ]
  },
  {
   "cell_type": "code",
   "execution_count": 67,
   "id": "51cdcbe4",
   "metadata": {},
   "outputs": [],
   "source": [
    "import numpy as np\n",
    "from sklearn.model_selection import train_test_split\n",
    "from sklearn import datasets\n",
    "import matplotlib.pyplot as plt"
   ]
  },
  {
   "cell_type": "markdown",
   "id": "829d6909",
   "metadata": {},
   "source": [
    "## Implement SVM Class"
   ]
  },
  {
   "cell_type": "code",
   "execution_count": 68,
   "id": "383cd17b",
   "metadata": {},
   "outputs": [],
   "source": [
    "class SVM:\n",
    "    \n",
    "    def __init__(self,learning_rate=0.001,lambda_param=0.01,n_iters=1000):\n",
    "        self.lr=learning_rate\n",
    "        self.lambda_param =lambda_param\n",
    "        self.n_iters=n_iters\n",
    "        self.w= None\n",
    "        self.b=None\n",
    "    def fit(self,X,y):\n",
    "        n_samples,n_features=X.shape\n",
    "        y_=np.where(y<=0,-1,1)\n",
    "        #init weights\n",
    "        self.w=np.zeros(n_features)\n",
    "        self.b=0\n",
    "        #Learning Iters\n",
    "        for _ in range(self.n_iters):\n",
    "            for idx,x_i in enumerate(X):\n",
    "                condition=y_[idx]*(np.dot(x_i,self.w)-self.b)>=1\n",
    "                if condition:\n",
    "                    self.w-=self.lr*(2*self.lambda_param*self.w)\n",
    "                else:\n",
    "                    self.w-=self.lr*(2*self.lambda_param*self.w-np.dot(x_i,y_[idx]))\n",
    "                    self.b-=self.lr*y_[idx]\n",
    "            \n",
    "    def predict(self,X):\n",
    "        approx=np.dot(X,self.w)-self.b\n",
    "        return np.sign(approx)"
   ]
  },
  {
   "cell_type": "markdown",
   "id": "c6bac6e2",
   "metadata": {},
   "source": [
    "## implement a visualizing function"
   ]
  },
  {
   "cell_type": "code",
   "execution_count": 69,
   "id": "fd4c1bd5",
   "metadata": {},
   "outputs": [],
   "source": [
    "def visualize_svm():\n",
    "    def get_hyperplane_value(x,w,b,offset):\n",
    "        return(-w[0]*x+b+offset)/w[1]\n",
    "    fig =plt.figure()\n",
    "    ax=fig.add_subplot(1,1,1)\n",
    "    # Scatter dataset points\n",
    "    plt.scatter(X[:,0],X[:,1],marker=\"o\",c=y)\n",
    "    \n",
    "    x0_1=np.amin(X[:,0])\n",
    "    x0_2=np.amax(X[:,0])\n",
    "     \n",
    "    #get all hyper planes x's\n",
    "    x1_1 =get_hyperplane_value(x0_1,clf.w,clf.b,0)\n",
    "    x1_2 =get_hyperplane_value(x0_2,clf.w,clf.b,0)\n",
    "    x1_1_m =get_hyperplane_value(x0_1,clf.w,clf.b,-1)\n",
    "    x1_2_m =get_hyperplane_value(x0_2,clf.w,clf.b,-1)\n",
    "    x1_1_p =get_hyperplane_value(x0_1,clf.w,clf.b,1)\n",
    "    x1_2_p =get_hyperplane_value(x0_2,clf.w,clf.b,1)\n",
    "    \n",
    "    #plotting\n",
    "    ax.plot([x0_1,x0_2],[x1_1,x1_2],\"y--\")\n",
    "    ax.plot([x0_1,x0_2],[x1_1_m,x1_2_m],\"k\")\n",
    "    ax.plot([x0_1,x0_2],[x1_1_p,x1_2_p],\"k\")\n",
    "    "
   ]
  },
  {
   "cell_type": "markdown",
   "id": "9ce1c1a0",
   "metadata": {},
   "source": [
    "## Generate Random dataset"
   ]
  },
  {
   "cell_type": "code",
   "execution_count": 70,
   "id": "3fc6b302",
   "metadata": {},
   "outputs": [],
   "source": [
    "X,y=datasets.make_blobs(\n",
    "n_samples=50,n_features=2,centers=2,cluster_std=1.05,random_state=40)\n",
    "y=np.where(y==0,-1,1)\n",
    "X_train,X_test,y_train,y_test=train_test_split(\n",
    "X,y,test_size=0.3,random_state=123)"
   ]
  },
  {
   "cell_type": "markdown",
   "id": "55a02604",
   "metadata": {},
   "source": [
    "## Train The dataset"
   ]
  },
  {
   "cell_type": "code",
   "execution_count": 71,
   "id": "a8ba0254",
   "metadata": {},
   "outputs": [],
   "source": [
    "clf=SVM()\n",
    "clf.fit(X_train,y_train)"
   ]
  },
  {
   "cell_type": "markdown",
   "id": "c9689094",
   "metadata": {},
   "source": [
    "## Predict the testset values"
   ]
  },
  {
   "cell_type": "code",
   "execution_count": 72,
   "id": "22d18283",
   "metadata": {},
   "outputs": [],
   "source": [
    "predictions=clf.predict(X_test)"
   ]
  },
  {
   "cell_type": "markdown",
   "id": "e422a5b9",
   "metadata": {},
   "source": [
    "## Calc Accu"
   ]
  },
  {
   "cell_type": "code",
   "execution_count": 73,
   "id": "e73b1515",
   "metadata": {},
   "outputs": [
    {
     "name": "stdout",
     "output_type": "stream",
     "text": [
      "acuu : 1.0\n"
     ]
    }
   ],
   "source": [
    "def accua(y_true,y_pred):\n",
    "    return np.sum(y_true==y_pred)/len(y_true)\n",
    "print(\"acuu :\" ,accua(y_test,predictions))"
   ]
  },
  {
   "cell_type": "markdown",
   "id": "651671cd",
   "metadata": {},
   "source": [
    "## Visualize the decision boundry"
   ]
  },
  {
   "cell_type": "code",
   "execution_count": 74,
   "id": "d6bc7423",
   "metadata": {},
   "outputs": [
    {
     "data": {
      "image/png": "[encoded data removed]",
      "text/plain": [
       "<Figure size 432x288 with 1 Axes>"
      ]
     },
     "metadata": {
      "needs_background": "light"
     },
     "output_type": "display_data"
    }
   ],
   "source": [
    "visualize_svm()"
   ]
  },
  {
   "cell_type": "code",
   "execution_count": null,
   "id": "eefe5fd7",
   "metadata": {},
   "outputs": [],
   "source": []
  }
 ],
 "metadata": {
  "kernelspec": {
   "display_name": "Python 3 (ipykernel)",
   "language": "python",
   "name": "python3"
  },
  "language_info": {
   "codemirror_mode": {
    "name": "ipython",
    "version": 3
   },
   "file_extension": ".py",
   "mimetype": "text/x-python",
   "name": "python",
   "nbconvert_exporter": "python",
   "pygments_lexer": "ipython3",
   "version": "3.10.2"
  }
 },
 "nbformat": 4,
 "nbformat_minor": 5
}
